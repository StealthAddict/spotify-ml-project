{
 "cells": [
  {
   "cell_type": "markdown",
   "metadata": {},
   "source": [
    "## Introduction\n",
    "\n",
    "Need to answer the questions:\n",
    "- What is the machine learning problem you are trying to solve?\n",
    "- Why does the problem matter?\n",
    "- What could the results of your predictive model be used for?\n",
    "- Why would we want to be able to predict the thing you're trying to preduct?\n",
    "- Describe the dataset.\n",
    "\n",
    "We can use the music composition of the song (acousticness, speechiness, key) to predict its popularity and the number of streams that it will have."
   ]
  },
  {
   "cell_type": "code",
   "execution_count": 37,
   "metadata": {},
   "outputs": [],
   "source": [
    "import pandas as pd\n",
    "import numpy as np\n",
    "import sklearn as sk\n",
    "import matplotlib.pyplot as plt\n",
    "%matplotlib inline\n",
    "\n",
    "data = pd.read_csv(\"spotify-2023.csv\", thousands=',')\n",
    "raw_data = data"
   ]
  },
  {
   "cell_type": "markdown",
   "metadata": {},
   "source": [
    "### 1. Data Prep\n",
    "#### 1.1 Data Cleaning\n",
    "Impute missing values \n",
    "- Missing keys:\n",
    "    \n",
    "    On review of the songs with missing keys, a majority are C, so all missing keys have been entered as C.\n",
    "- Missing in_shazam_charts rankings:\n",
    "    \n",
    "    Imputing a value of 0, as these songs most likely did not land in shazam charts. And modify datatype to integer like other in_*_charts features."
   ]
  },
  {
   "cell_type": "code",
   "execution_count": 38,
   "metadata": {},
   "outputs": [
    {
     "data": {
      "text/plain": [
       "False"
      ]
     },
     "execution_count": 38,
     "metadata": {},
     "output_type": "execute_result"
    }
   ],
   "source": [
    "# Fill in NaNs in the key column with C and the NaNs in in_shazam_charts with 0\n",
    "data['key'] = data['key'].fillna(\"C\")\n",
    "data['in_shazam_charts'] = data['in_shazam_charts'].fillna(0).astype('int')\n",
    "\n",
    "# Ensure no more NaNs in data\n",
    "data.isnull().values.any()"
   ]
  },
  {
   "cell_type": "markdown",
   "metadata": {},
   "source": [
    "One-Hot encode categorical values\n",
    "- Key\n",
    "- Mode"
   ]
  },
  {
   "cell_type": "code",
   "execution_count": 39,
   "metadata": {},
   "outputs": [
    {
     "name": "stdout",
     "output_type": "stream",
     "text": [
      "                            track_name    artist(s)_name  artist_count  \\\n",
      "0  Seven (feat. Latto) (Explicit Ver.)  Latto, Jung Kook             2   \n",
      "1                                 LALA       Myke Towers             1   \n",
      "2                              vampire    Olivia Rodrigo             1   \n",
      "3                         Cruel Summer      Taylor Swift             1   \n",
      "4                       WHERE SHE GOES         Bad Bunny             1   \n",
      "\n",
      "   released_year  released_month  released_day  in_spotify_playlists  \\\n",
      "0           2023               7            14                   553   \n",
      "1           2023               3            23                  1474   \n",
      "2           2023               6            30                  1397   \n",
      "3           2019               8            23                  7858   \n",
      "4           2023               5            18                  3133   \n",
      "\n",
      "   in_spotify_charts    streams  in_apple_playlists  ...  C  C#  D  D#  E  F  \\\n",
      "0                147  141381703                  43  ...  0   0  0   0  0  0   \n",
      "1                 48  133716286                  48  ...  0   1  0   0  0  0   \n",
      "2                113  140003974                  94  ...  0   0  0   0  0  1   \n",
      "3                100  800840817                 116  ...  0   0  0   0  0  0   \n",
      "4                 50  303236322                  84  ...  0   0  0   0  0  0   \n",
      "\n",
      "   F#  G  G#  Minor  \n",
      "0   0  0   0      0  \n",
      "1   0  0   0      0  \n",
      "2   0  0   0      0  \n",
      "3   0  0   0      0  \n",
      "4   0  0   0      1  \n",
      "\n",
      "[5 rows x 35 columns]\n"
     ]
    }
   ],
   "source": [
    "# Modify keys\n",
    "one_hot = pd.get_dummies(data['key'])\n",
    "data = data.drop('key',axis = 1)\n",
    "data = data.join(one_hot)\n",
    "\n",
    "# Modify modes -- binary: Minor vs not-minor\n",
    "one_hot = pd.get_dummies(data['mode'], drop_first=True)\n",
    "data = data.drop('mode',axis = 1)\n",
    "data = data.join(one_hot)\n",
    "\n",
    "print(data.head())"
   ]
  },
  {
   "cell_type": "markdown",
   "metadata": {},
   "source": [
    "#### 1.2 Data Exploration\n",
    "\n",
    "The goal is to find what features may have the largest affect on the number of streams and the popularity of a song. \n",
    "One of the easiest ways to see this is through a correlation chart."
   ]
  },
  {
   "cell_type": "code",
   "execution_count": 40,
   "metadata": {},
   "outputs": [
    {
     "data": {
      "text/plain": [
       "artist_count           -0.135791\n",
       "released_year          -0.224320\n",
       "released_month         -0.023571\n",
       "released_day            0.011907\n",
       "in_spotify_playlists    0.789730\n",
       "in_spotify_charts       0.246247\n",
       "streams                 1.000000\n",
       "in_apple_playlists      0.772156\n",
       "in_apple_charts         0.320888\n",
       "in_deezer_playlists     0.598127\n",
       "in_deezer_charts        0.228894\n",
       "in_shazam_charts       -0.006090\n",
       "bpm                    -0.002015\n",
       "danceability_%         -0.104462\n",
       "valence_%              -0.041738\n",
       "energy_%               -0.026308\n",
       "acousticness_%         -0.003754\n",
       "instrumentalness_%     -0.044705\n",
       "liveness_%             -0.048233\n",
       "speechiness_%          -0.111577\n",
       "A                      -0.056823\n",
       "A#                      0.017307\n",
       "B                       0.003090\n",
       "C                       0.004457\n",
       "C#                      0.060752\n",
       "D                       0.008566\n",
       "D#                      0.013183\n",
       "E                       0.029752\n",
       "F                      -0.025584\n",
       "F#                      0.004453\n",
       "G                      -0.036042\n",
       "G#                     -0.021044\n",
       "Minor                  -0.041794\n",
       "dtype: float64"
      ]
     },
     "execution_count": 40,
     "metadata": {},
     "output_type": "execute_result"
    }
   ],
   "source": [
    "# Notable correlations with streams: \n",
    "#   in_spotify_playlists, in_apple_playlists, in_apple_charts, in_spotify_charts\n",
    "data.corrwith(data['streams'], numeric_only=True)"
   ]
  },
  {
   "cell_type": "markdown",
   "metadata": {},
   "source": [
    "Description & Distribution of the number of streams across songs."
   ]
  },
  {
   "cell_type": "code",
   "execution_count": 69,
   "metadata": {},
   "outputs": [
    {
     "data": {
      "image/png": "[encoded data removed]",
      "text/plain": [
       "<Figure size 640x480 with 1 Axes>"
      ]
     },
     "metadata": {},
     "output_type": "display_data"
    },
    {
     "data": {
      "text/plain": [
       "count    9.530000e+02\n",
       "mean     5.136038e+08\n",
       "std      5.667986e+08\n",
       "min      2.762000e+03\n",
       "25%      1.413817e+08\n",
       "50%      2.902286e+08\n",
       "75%      6.738011e+08\n",
       "max      3.703895e+09\n",
       "Name: streams, dtype: float64"
      ]
     },
     "execution_count": 69,
     "metadata": {},
     "output_type": "execute_result"
    }
   ],
   "source": [
    "plt.boxplot(data['streams'])\n",
    "plt.show()\n",
    "\n",
    "data['streams'].describe()"
   ]
  },
  {
   "cell_type": "markdown",
   "metadata": {},
   "source": [
    "Checking the distribution of some factors we might expect to have an affect on popularity"
   ]
  },
  {
   "cell_type": "code",
   "execution_count": 42,
   "metadata": {},
   "outputs": [
    {
     "data": {
      "image/png": "[encoded data removed]",
      "text/plain": [
       "<Figure size 640x480 with 1 Axes>"
      ]
     },
     "metadata": {},
     "output_type": "display_data"
    },
    {
     "data": {
      "image/png": "[encoded data removed]",
      "text/plain": [
       "<Figure size 640x480 with 1 Axes>"
      ]
     },
     "metadata": {},
     "output_type": "display_data"
    }
   ],
   "source": [
    "plt.hist(data['danceability_%'])\n",
    "plt.show()\n",
    "plt.hist(data['energy_%'])\n",
    "plt.show()"
   ]
  },
  {
   "cell_type": "markdown",
   "metadata": {},
   "source": [
    "Does the mode of the song have any affect on the number of streams?\n",
    "\n",
    "What about the song's bpm on chart rankings?"
   ]
  },
  {
   "cell_type": "code",
   "execution_count": 43,
   "metadata": {},
   "outputs": [
    {
     "name": "stdout",
     "output_type": "stream",
     "text": [
      "Minor\n",
      "0    5.338706e+08\n",
      "1    4.859445e+08\n",
      "Name: streams, dtype: float64\n"
     ]
    },
    {
     "data": {
      "text/plain": [
       "bpm\n",
       "67      1\n",
       "71      1\n",
       "72      1\n",
       "74      1\n",
       "76      1\n",
       "77      1\n",
       "78      3\n",
       "79      2\n",
       "80      3\n",
       "81      3\n",
       "82      3\n",
       "83      3\n",
       "84      3\n",
       "85      4\n",
       "87      1\n",
       "88      4\n",
       "89      2\n",
       "90     14\n",
       "91      2\n",
       "92     16\n",
       "93      9\n",
       "94     11\n",
       "95     10\n",
       "96     11\n",
       "97      4\n",
       "98     10\n",
       "99      4\n",
       "100    11\n",
       "101     5\n",
       "102     5\n",
       "103     4\n",
       "104     3\n",
       "105    13\n",
       "106     1\n",
       "107     7\n",
       "108     6\n",
       "109     3\n",
       "110    13\n",
       "111     1\n",
       "112     4\n",
       "113     2\n",
       "114     6\n",
       "115     6\n",
       "116     7\n",
       "117     7\n",
       "118     6\n",
       "119     2\n",
       "120    23\n",
       "121     5\n",
       "122    10\n",
       "123     6\n",
       "124     9\n",
       "125    10\n",
       "126     4\n",
       "127     2\n",
       "128    10\n",
       "129     4\n",
       "130    25\n",
       "131     2\n",
       "132     6\n",
       "133     5\n",
       "134     7\n",
       "135     6\n",
       "136     6\n",
       "137     3\n",
       "138     4\n",
       "139     5\n",
       "140    20\n",
       "141     3\n",
       "142     5\n",
       "143     3\n",
       "144     9\n",
       "145     6\n",
       "146     6\n",
       "147     1\n",
       "148     4\n",
       "149     2\n",
       "150    10\n",
       "152     1\n",
       "153     1\n",
       "154     5\n",
       "155     2\n",
       "156     2\n",
       "157     1\n",
       "158     3\n",
       "160     4\n",
       "161     1\n",
       "162     1\n",
       "163     1\n",
       "164     2\n",
       "165     1\n",
       "166     3\n",
       "168     3\n",
       "169     2\n",
       "170    12\n",
       "171     2\n",
       "172     5\n",
       "173     2\n",
       "174     6\n",
       "175     1\n",
       "176     5\n",
       "178     3\n",
       "180     6\n",
       "181     1\n",
       "182     1\n",
       "186     2\n",
       "188     1\n",
       "189     1\n",
       "192     1\n",
       "196     1\n",
       "198     1\n",
       "202     1\n",
       "204     1\n",
       "206     1\n",
       "Name: in_spotify_charts, dtype: int64"
      ]
     },
     "execution_count": 43,
     "metadata": {},
     "output_type": "execute_result"
    }
   ],
   "source": [
    "# Mode has a minor affect on the number of streams\n",
    "print(data.groupby(by=['Minor'])['streams'].mean())\n",
    "\n",
    "# Some BPMs seem a lot more popular than others.\n",
    "# notable bpms to appear in charts multiple times (>10):\n",
    "#   90, 92, 94, 96, 100, 105, 110, 120, 130, 140, 170\n",
    "pd.options.display.max_rows = 150\n",
    "data[data['in_spotify_charts'] > 0].groupby(by=['bpm'])['in_spotify_charts'].count()"
   ]
  },
  {
   "cell_type": "markdown",
   "metadata": {},
   "source": [
    "#### 1.3 Feature Engineering\n",
    "- Remove track & artist names.\n",
    "\n",
    "    All track names are going to be different. Using artist names would inflate the number of dimensions, which seems to have diminishing returns since most artists are different.\n"
   ]
  },
  {
   "cell_type": "code",
   "execution_count": 44,
   "metadata": {},
   "outputs": [],
   "source": [
    "# Remove artist names, track name\n",
    "data = data.drop(['track_name', 'artist(s)_name'], axis=1)"
   ]
  },
  {
   "cell_type": "code",
   "execution_count": null,
   "metadata": {},
   "outputs": [],
   "source": []
  },
  {
   "cell_type": "markdown",
   "metadata": {},
   "source": [
    "### 2. Modeling\n",
    "- Describe process and models tested\n",
    "- Going to test linear regression & KNN"
   ]
  },
  {
   "cell_type": "code",
   "execution_count": 45,
   "metadata": {},
   "outputs": [
    {
     "name": "stdout",
     "output_type": "stream",
     "text": [
      "Simple regression on in_spotify_playlists vs streams: \n",
      "Average R2: 0.48735618013674387\n",
      "Adjusted R2: 0.4868171224923031\n",
      "\n",
      "Regression on the entire dataset: \n",
      "Average R2: 0.5715590311603738\n",
      "Adjusted R2: 0.556656736592039\n"
     ]
    }
   ],
   "source": [
    "from sklearn.linear_model import LinearRegression\n",
    "from sklearn.model_selection import cross_val_score\n",
    "\n",
    "# simple modeling with streams and in_spotify\n",
    "spotify = data[\"in_spotify_playlists\"]\n",
    "streams = data[\"streams\"]\n",
    "spotify = spotify.values.reshape(-1, 1)\n",
    "streams = streams.values.reshape(-1, 1)\n",
    "reg = LinearRegression()\n",
    "\n",
    "r = cross_val_score(estimator=reg, X=spotify, y=streams, cv=5)\n",
    "print(\"Simple regression on in_spotify_playlists vs streams: \")\n",
    "print(\"Average R2: \" + str(r.mean()))\n",
    "print(\"Adjusted R2: \" + str((1 - (1 - r) * ((spotify.shape[0] - 1) / \n",
    "          (spotify.shape[0] - spotify.shape[1] - 1))).mean()))\n",
    "\n",
    "reg = LinearRegression()\n",
    "\n",
    "# streams = data[\"streams\"]\n",
    "x=data.loc[:, data.columns != 'streams']\n",
    "# x.apply(pd.to_numeric)\n",
    "\n",
    "\n",
    "r = cross_val_score(estimator=reg, X=x, y=streams, cv=5, error_score='raise')\n",
    "print(\"\\nRegression on the entire dataset: \")\n",
    "\n",
    "print(\"Average R2: \" + str(r.mean()))\n",
    "print(\"Adjusted R2: \" + str((1 - (1 - r) * ((x.shape[0] - 1) / \n",
    "          (x.shape[0] - x.shape[1] - 1))).mean()))"
   ]
  },
  {
   "cell_type": "markdown",
   "metadata": {},
   "source": [
    "#### KNN Models\n",
    "We decided to try some KNN models since a natural conclusion would be that songs of a similar make-up would end up having similar popularity. \n",
    "(For now) to achieve results the 'streams' class has been divided into the quartiles found when describing 'streams'."
   ]
  },
  {
   "cell_type": "code",
   "execution_count": 106,
   "metadata": {},
   "outputs": [
    {
     "name": "stdout",
     "output_type": "stream",
     "text": [
      "CROSS VAL SCORE\n",
      "average.  0.3567318820611739\n",
      "GRID SEARCH CV\n",
      "best params.  {'knc__n_neighbors': 20, 'pca__n_components': 3}\n",
      "best score.  0.47327087351887565\n"
     ]
    }
   ],
   "source": [
    "# --- KNN Model ---\n",
    "\n",
    "from sklearn.pipeline import Pipeline\n",
    "from sklearn.decomposition import PCA\n",
    "from sklearn.neighbors import KNeighborsClassifier\n",
    "from sklearn.model_selection import GridSearchCV\n",
    "\n",
    "def quarterStreams(e):\n",
    "    if e <= 141_381_700:\n",
    "        return 150_000_000\n",
    "    elif e <= 290_228_600:\n",
    "        return 300_000_000\n",
    "    elif e <= 673_801_100:\n",
    "        return 700_000_000\n",
    "    else: \n",
    "        return 1_000_000_000\n",
    "\n",
    "\n",
    "# Separate class and features\n",
    "knn_copy = data.copy()\n",
    "\n",
    "data_features = knn_copy.drop(columns='streams')\n",
    "data_class = knn_copy.loc[:, 'streams']\n",
    "data_class = data_class.apply(quarterStreams)\n",
    "# print(data_class.describe())\n",
    "\n",
    "# TODO: need to turn the streams class into thresholds to get rid of the n_splits error\n",
    "# for now rounding based on quartiles\n",
    "# 25%    <=  1.413817e+08 -> 150000000\n",
    "# 50%    <=  2.902286e+08 -> 300000000\n",
    "# 75%    <=  6.738011e+08 -> 700000000\n",
    "# and one for greater than   700000000\n",
    "\n",
    "# Create pipeline\n",
    "stdsc = sk.preprocessing.StandardScaler()\n",
    "pca = PCA()\n",
    "knc = KNeighborsClassifier()\n",
    "pipeline = Pipeline(steps=(('stdsc', stdsc), ('pca', pca), ('knc', knc)))\n",
    "\n",
    "# Cross validation\n",
    "cvs = cross_val_score(pipeline, data_features, data_class, cv=5)\n",
    "print('CROSS VAL SCORE')\n",
    "print('average. ', cvs.mean())\n",
    "\n",
    "\n",
    "param_grid = {\n",
    "    'pca__n_components': list(range(2, 32)),\n",
    "    'knc__n_neighbors': list(range(1, 25))\n",
    "}\n",
    "\n",
    "# Gridsearch \n",
    "gscv = GridSearchCV(pipeline, param_grid, cv=5)\n",
    "gscv_res = gscv.fit(data_features, data_class)\n",
    "print('GRID SEARCH CV')\n",
    "print('best params. ', gscv_res.best_params_)\n",
    "print('best score. ', gscv_res.best_score_)\n",
    "\n"
   ]
  },
  {
   "cell_type": "markdown",
   "metadata": {},
   "source": [
    "### 3. Results\n",
    "- Describe results of final modeling"
   ]
  },
  {
   "cell_type": "markdown",
   "metadata": {},
   "source": []
  }
 ],
 "metadata": {
  "kernelspec": {
   "display_name": "Python 3 (ipykernel)",
   "language": "python",
   "name": "python3"
  },
  "language_info": {
   "codemirror_mode": {
    "name": "ipython",
    "version": 3
   },
   "file_extension": ".py",
   "mimetype": "text/x-python",
   "name": "python",
   "nbconvert_exporter": "python",
   "pygments_lexer": "ipython3",
   "version": "3.11.4"
  }
 },
 "nbformat": 4,
 "nbformat_minor": 2
}
