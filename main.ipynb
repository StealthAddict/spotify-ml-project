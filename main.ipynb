{
 "cells": [
  {
   "cell_type": "markdown",
   "metadata": {},
   "source": [
    "## Introduction\n",
    "TODO\n",
    "Need to answer the questions:\n",
    "- What is the machine learning problem you are trying to solve?\n",
    "- Why does the problem matter?\n",
    "- What could the results of your predictive model be used for?\n",
    "- Why would we want to be able to predict the thing you're trying to preduct?\n",
    "- Describe the dataset.\n",
    "\n",
    "Using the data collected on songs during one year (2023) we want to predict how many streams a song can acumulate in the span of a year and in turn discover its popularity."
   ]
  },
  {
   "cell_type": "code",
   "execution_count": 1,
   "metadata": {},
   "outputs": [],
   "source": [
    "import pandas as pd\n",
    "import numpy as np\n",
    "\n",
    "import matplotlib.pyplot as plt\n",
    "%matplotlib inline\n",
    "\n",
    "import sklearn as sk\n",
    "from sklearn.linear_model import LinearRegression\n",
    "from sklearn.model_selection import GridSearchCV, cross_val_predict, cross_val_score\n",
    "from sklearn.ensemble import RandomForestRegressor\n",
    "from sklearn.metrics import r2_score, mean_squared_error\n",
    "from sklearn.pipeline import Pipeline\n",
    "from sklearn.decomposition import PCA\n",
    "from sklearn.neighbors import KNeighborsClassifier, KNeighborsRegressor\n",
    "from sklearn.svm import SVR\n",
    "from sklearn.preprocessing import StandardScaler\n",
    "\n",
    "\n",
    "data = pd.read_csv(\"spotify-2023.csv\", thousands=',')\n",
    "raw_data = data.copy()"
   ]
  },
  {
   "cell_type": "markdown",
   "metadata": {},
   "source": [
    "### 1. Data Prep\n",
    "#### 1.1 Data Cleaning\n",
    "Impute missing values \n",
    "- Missing keys:\n",
    "    \n",
    "    On review of the songs with missing keys, a majority are C, so all missing keys have been entered as C.\n",
    "- Missing in_shazam_charts rankings:\n",
    "    \n",
    "    Imputing a value of 0, as these songs most likely did not land in shazam charts. And modify datatype to integer like other in_*_charts features."
   ]
  },
  {
   "cell_type": "code",
   "execution_count": 3,
   "metadata": {},
   "outputs": [
    {
     "name": "stdout",
     "output_type": "stream",
     "text": [
      "Raw missing values.\n",
      "Check datatypes\n",
      "<class 'pandas.core.frame.DataFrame'>\n",
      "RangeIndex: 953 entries, 0 to 952\n",
      "Data columns (total 24 columns):\n",
      " #   Column                Non-Null Count  Dtype  \n",
      "---  ------                --------------  -----  \n",
      " 0   track_name            953 non-null    object \n",
      " 1   artist(s)_name        953 non-null    object \n",
      " 2   artist_count          953 non-null    int64  \n",
      " 3   released_year         953 non-null    int64  \n",
      " 4   released_month        953 non-null    int64  \n",
      " 5   released_day          953 non-null    int64  \n",
      " 6   in_spotify_playlists  953 non-null    int64  \n",
      " 7   in_spotify_charts     953 non-null    int64  \n",
      " 8   streams               953 non-null    int64  \n",
      " 9   in_apple_playlists    953 non-null    int64  \n",
      " 10  in_apple_charts       953 non-null    int64  \n",
      " 11  in_deezer_playlists   953 non-null    int64  \n",
      " 12  in_deezer_charts      953 non-null    int64  \n",
      " 13  in_shazam_charts      903 non-null    float64\n",
      " 14  bpm                   953 non-null    int64  \n",
      " 15  key                   858 non-null    object \n",
      " 16  mode                  953 non-null    object \n",
      " 17  danceability_%        953 non-null    int64  \n",
      " 18  valence_%             953 non-null    int64  \n",
      " 19  energy_%              953 non-null    int64  \n",
      " 20  acousticness_%        953 non-null    int64  \n",
      " 21  instrumentalness_%    953 non-null    int64  \n",
      " 22  liveness_%            953 non-null    int64  \n",
      " 23  speechiness_%         953 non-null    int64  \n",
      "dtypes: float64(1), int64(19), object(4)\n",
      "memory usage: 178.8+ KB\n"
     ]
    }
   ],
   "source": [
    "print('Raw missing values.')\n",
    "data.isnull().sum()\n",
    "\n",
    "print('Check datatypes')\n",
    "data.info()"
   ]
  },
  {
   "cell_type": "code",
   "execution_count": 4,
   "metadata": {},
   "outputs": [
    {
     "data": {
      "text/plain": [
       "False"
      ]
     },
     "execution_count": 4,
     "metadata": {},
     "output_type": "execute_result"
    }
   ],
   "source": [
    "# Fill in NaNs in the key column with C and the NaNs in in_shazam_charts with 0, also turn all objects to ints.\n",
    "data['key'] = data['key'].fillna(\"C\")\n",
    "data['in_shazam_charts'] = data['in_shazam_charts'].fillna(0).astype('int')\n",
    "\n",
    "# Ensure no more NaNs in data\n",
    "data.isnull().values.any()"
   ]
  },
  {
   "cell_type": "markdown",
   "metadata": {},
   "source": [
    "One-Hot encode categorical values\n",
    "- Key\n",
    " \n",
    "    Since there are many keys, each gets its own column.\n",
    "- Mode\n",
    "\n",
    "    Since there are only two options: major or minor, the column will be transformed into a single column that states whether the song is in minor or not."
   ]
  },
  {
   "cell_type": "code",
   "execution_count": 5,
   "metadata": {},
   "outputs": [
    {
     "name": "stdout",
     "output_type": "stream",
     "text": [
      "                            track_name    artist(s)_name  artist_count  \\\n",
      "0  Seven (feat. Latto) (Explicit Ver.)  Latto, Jung Kook             2   \n",
      "1                                 LALA       Myke Towers             1   \n",
      "2                              vampire    Olivia Rodrigo             1   \n",
      "3                         Cruel Summer      Taylor Swift             1   \n",
      "4                       WHERE SHE GOES         Bad Bunny             1   \n",
      "\n",
      "   released_year  released_month  released_day  in_spotify_playlists  \\\n",
      "0           2023               7            14                   553   \n",
      "1           2023               3            23                  1474   \n",
      "2           2023               6            30                  1397   \n",
      "3           2019               8            23                  7858   \n",
      "4           2023               5            18                  3133   \n",
      "\n",
      "   in_spotify_charts    streams  in_apple_playlists  ...  C  C#  D  D#  E  F  \\\n",
      "0                147  141381703                  43  ...  0   0  0   0  0  0   \n",
      "1                 48  133716286                  48  ...  0   1  0   0  0  0   \n",
      "2                113  140003974                  94  ...  0   0  0   0  0  1   \n",
      "3                100  800840817                 116  ...  0   0  0   0  0  0   \n",
      "4                 50  303236322                  84  ...  0   0  0   0  0  0   \n",
      "\n",
      "   F#  G  G#  Minor  \n",
      "0   0  0   0      0  \n",
      "1   0  0   0      0  \n",
      "2   0  0   0      0  \n",
      "3   0  0   0      0  \n",
      "4   0  0   0      1  \n",
      "\n",
      "[5 rows x 35 columns]\n"
     ]
    }
   ],
   "source": [
    "# Modify keys\n",
    "one_hot = pd.get_dummies(data['key'])\n",
    "data = data.drop('key',axis = 1)\n",
    "data = data.join(one_hot)\n",
    "\n",
    "# Modify modes -- binary: Minor vs not-minor\n",
    "one_hot = pd.get_dummies(data['mode'], drop_first=True)\n",
    "data = data.drop('mode',axis = 1)\n",
    "data = data.join(one_hot)\n",
    "\n",
    "print(data.head())"
   ]
  },
  {
   "cell_type": "markdown",
   "metadata": {},
   "source": [
    "#### 1.2 Data Exploration\n",
    "\n",
    "The goal is to find what features may have the largest affect on the number of streams and the popularity of a song. \n",
    "One of the easiest ways to see this is through a correlation chart."
   ]
  },
  {
   "cell_type": "code",
   "execution_count": 6,
   "metadata": {},
   "outputs": [
    {
     "data": {
      "text/plain": [
       "artist_count           -0.135791\n",
       "released_year          -0.224320\n",
       "released_month         -0.023571\n",
       "released_day            0.011907\n",
       "in_spotify_playlists    0.789730\n",
       "in_spotify_charts       0.246247\n",
       "streams                 1.000000\n",
       "in_apple_playlists      0.772156\n",
       "in_apple_charts         0.320888\n",
       "in_deezer_playlists     0.598127\n",
       "in_deezer_charts        0.228894\n",
       "in_shazam_charts       -0.006090\n",
       "bpm                    -0.002015\n",
       "danceability_%         -0.104462\n",
       "valence_%              -0.041738\n",
       "energy_%               -0.026308\n",
       "acousticness_%         -0.003754\n",
       "instrumentalness_%     -0.044705\n",
       "liveness_%             -0.048233\n",
       "speechiness_%          -0.111577\n",
       "A                      -0.056823\n",
       "A#                      0.017307\n",
       "B                       0.003090\n",
       "C                       0.004457\n",
       "C#                      0.060752\n",
       "D                       0.008566\n",
       "D#                      0.013183\n",
       "E                       0.029752\n",
       "F                      -0.025584\n",
       "F#                      0.004453\n",
       "G                      -0.036042\n",
       "G#                     -0.021044\n",
       "Minor                  -0.041794\n",
       "dtype: float64"
      ]
     },
     "execution_count": 6,
     "metadata": {},
     "output_type": "execute_result"
    }
   ],
   "source": [
    "# Notable correlations with streams: \n",
    "#   in_spotify_playlists, in_apple_playlists, in_apple_charts, in_spotify_charts\n",
    "data.corrwith(data['streams'], numeric_only=True)"
   ]
  },
  {
   "cell_type": "markdown",
   "metadata": {},
   "source": [
    "Description & Distribution of the number of streams across songs."
   ]
  },
  {
   "cell_type": "code",
   "execution_count": 7,
   "metadata": {},
   "outputs": [
    {
     "data": {
      "image/png": "[encoded data removed]",
      "text/plain": [
       "<Figure size 640x480 with 1 Axes>"
      ]
     },
     "metadata": {},
     "output_type": "display_data"
    },
    {
     "data": {
      "text/plain": [
       "count    9.530000e+02\n",
       "mean     5.136038e+08\n",
       "std      5.667986e+08\n",
       "min      2.762000e+03\n",
       "25%      1.413817e+08\n",
       "50%      2.902286e+08\n",
       "75%      6.738011e+08\n",
       "max      3.703895e+09\n",
       "Name: streams, dtype: float64"
      ]
     },
     "execution_count": 7,
     "metadata": {},
     "output_type": "execute_result"
    }
   ],
   "source": [
    "plt.boxplot(data['streams'])\n",
    "plt.show()\n",
    "\n",
    "data['streams'].describe()"
   ]
  },
  {
   "cell_type": "markdown",
   "metadata": {},
   "source": [
    "**Numerical Distribution** of some of the higher correlation features."
   ]
  },
  {
   "cell_type": "code",
   "execution_count": 8,
   "metadata": {},
   "outputs": [
    {
     "data": {
      "image/png": "[encoded data removed]",
      "text/plain": [
       "<Figure size 640x480 with 4 Axes>"
      ]
     },
     "metadata": {},
     "output_type": "display_data"
    },
    {
     "data": {
      "image/png": "[encoded data removed]",
      "text/plain": [
       "<Figure size 640x480 with 1 Axes>"
      ]
     },
     "metadata": {},
     "output_type": "display_data"
    },
    {
     "data": {
      "image/png": "[encoded data removed]",
      "text/plain": [
       "<Figure size 640x480 with 1 Axes>"
      ]
     },
     "metadata": {},
     "output_type": "display_data"
    }
   ],
   "source": [
    "num_dist = ['artist_count', 'released_year', 'danceability_%', 'speechiness_%']\n",
    "\n",
    "\n",
    "fig, ((ax0, ax1), (ax2, ax3)) = plt.subplots(nrows=2, ncols=2)\n",
    "\n",
    "ax0.hist(data[num_dist[0]], bins=8)\n",
    "ax0.set_title(num_dist[0])\n",
    "ax1.hist(data[num_dist[1]], bins=100)\n",
    "ax1.set_title(num_dist[1])\n",
    "ax2.hist(data[num_dist[2]], bins=100)\n",
    "ax2.set_title(num_dist[2])\n",
    "ax3.hist(data[num_dist[3]], bins=100)\n",
    "ax3.set_title(num_dist[3])\n",
    "\n",
    "fig.tight_layout()\n",
    "plt.show()\n",
    "\n",
    "\n",
    "num_dist_playlists = ['in_spotify_playlists', 'in_apple_playlists', 'in_deezer_playlists', ]\n",
    "\n",
    "n_bins = 20\n",
    "x = []\n",
    "for i in num_dist_playlists:\n",
    "    x.append(np.array(data[i]))\n",
    "\n",
    "fig, ax = plt.subplots()\n",
    "colors = ['mediumseagreen', 'cornflowerblue', 'mediumorchid']\n",
    "ax.hist(x, n_bins, density=True, histtype='bar', color=colors, label=num_dist_playlists)\n",
    "ax.legend(prop={'size': 10})\n",
    "ax.set_title('playlist counts')\n",
    "plt.show()\n",
    "\n",
    "num_dist_charts = ['in_spotify_charts', 'in_apple_charts', 'in_deezer_charts']\n",
    "n_bins = 20\n",
    "x = []\n",
    "for i in num_dist_charts:\n",
    "    x.append(np.array(data[i]))\n",
    "\n",
    "fig, ax = plt.subplots()\n",
    "colors = ['mediumseagreen', 'cornflowerblue', 'mediumorchid']\n",
    "ax.hist(x, n_bins, density=True, histtype='bar', color=colors, label=num_dist_charts)\n",
    "ax.legend(prop={'size': 10})\n",
    "ax.set_title('playlist counts')\n",
    "plt.show()"
   ]
  },
  {
   "cell_type": "markdown",
   "metadata": {},
   "source": [
    "**Categorial Distributions**"
   ]
  },
  {
   "cell_type": "code",
   "execution_count": 9,
   "metadata": {},
   "outputs": [
    {
     "data": {
      "image/png": "[encoded data removed]",
      "text/plain": [
       "<Figure size 640x480 with 1 Axes>"
      ]
     },
     "metadata": {},
     "output_type": "display_data"
    },
    {
     "data": {
      "text/plain": [
       "<Axes: ylabel='key'>"
      ]
     },
     "execution_count": 9,
     "metadata": {},
     "output_type": "execute_result"
    },
    {
     "data": {
      "image/png": "[encoded data removed]",
      "text/plain": [
       "<Figure size 640x480 with 1 Axes>"
      ]
     },
     "metadata": {},
     "output_type": "display_data"
    }
   ],
   "source": [
    "\n",
    "plt.pie(raw_data['mode'].value_counts(), labels=raw_data['mode'].drop_duplicates())\n",
    "plt.show()\n",
    "\n",
    "raw_data['key'].value_counts().plot(kind='pie')  "
   ]
  },
  {
   "cell_type": "markdown",
   "metadata": {},
   "source": [
    "Does the mode of the song have any affect on the number of streams?\n",
    "\n",
    "What about the song's bpm on chart rankings?"
   ]
  },
  {
   "cell_type": "code",
   "execution_count": 10,
   "metadata": {},
   "outputs": [
    {
     "name": "stdout",
     "output_type": "stream",
     "text": [
      "Minor\n",
      "0    5.338706e+08\n",
      "1    4.859445e+08\n",
      "Name: streams, dtype: float64\n"
     ]
    },
    {
     "data": {
      "text/plain": [
       "bpm\n",
       "67      1\n",
       "71      1\n",
       "72      1\n",
       "74      1\n",
       "76      1\n",
       "77      1\n",
       "78      3\n",
       "79      2\n",
       "80      3\n",
       "81      3\n",
       "82      3\n",
       "83      3\n",
       "84      3\n",
       "85      4\n",
       "87      1\n",
       "88      4\n",
       "89      2\n",
       "90     14\n",
       "91      2\n",
       "92     16\n",
       "93      9\n",
       "94     11\n",
       "95     10\n",
       "96     11\n",
       "97      4\n",
       "98     10\n",
       "99      4\n",
       "100    11\n",
       "101     5\n",
       "102     5\n",
       "103     4\n",
       "104     3\n",
       "105    13\n",
       "106     1\n",
       "107     7\n",
       "108     6\n",
       "109     3\n",
       "110    13\n",
       "111     1\n",
       "112     4\n",
       "113     2\n",
       "114     6\n",
       "115     6\n",
       "116     7\n",
       "117     7\n",
       "118     6\n",
       "119     2\n",
       "120    23\n",
       "121     5\n",
       "122    10\n",
       "123     6\n",
       "124     9\n",
       "125    10\n",
       "126     4\n",
       "127     2\n",
       "128    10\n",
       "129     4\n",
       "130    25\n",
       "131     2\n",
       "132     6\n",
       "133     5\n",
       "134     7\n",
       "135     6\n",
       "136     6\n",
       "137     3\n",
       "138     4\n",
       "139     5\n",
       "140    20\n",
       "141     3\n",
       "142     5\n",
       "143     3\n",
       "144     9\n",
       "145     6\n",
       "146     6\n",
       "147     1\n",
       "148     4\n",
       "149     2\n",
       "150    10\n",
       "152     1\n",
       "153     1\n",
       "154     5\n",
       "155     2\n",
       "156     2\n",
       "157     1\n",
       "158     3\n",
       "160     4\n",
       "161     1\n",
       "162     1\n",
       "163     1\n",
       "164     2\n",
       "165     1\n",
       "166     3\n",
       "168     3\n",
       "169     2\n",
       "170    12\n",
       "171     2\n",
       "172     5\n",
       "173     2\n",
       "174     6\n",
       "175     1\n",
       "176     5\n",
       "178     3\n",
       "180     6\n",
       "181     1\n",
       "182     1\n",
       "186     2\n",
       "188     1\n",
       "189     1\n",
       "192     1\n",
       "196     1\n",
       "198     1\n",
       "202     1\n",
       "204     1\n",
       "206     1\n",
       "Name: in_spotify_charts, dtype: int64"
      ]
     },
     "execution_count": 10,
     "metadata": {},
     "output_type": "execute_result"
    }
   ],
   "source": [
    "# Mode has a minor affect on the number of streams\n",
    "print(data.groupby(by=['Minor'])['streams'].mean())\n",
    "\n",
    "# Some BPMs seem a lot more popular than others.\n",
    "# notable bpms to appear in charts multiple times (>10):\n",
    "#   90, 92, 94, 96, 100, 105, 110, 120, 130, 140, 170\n",
    "pd.options.display.max_rows = 150\n",
    "data[data['in_spotify_charts'] > 0].groupby(by=['bpm'])['in_spotify_charts'].count()"
   ]
  },
  {
   "cell_type": "markdown",
   "metadata": {},
   "source": [
    "#### 1.3 Feature Engineering\n",
    "- Remove track & artist names.\n",
    "\n",
    "    All track names are going to be different. Using artist names would inflate the number of dimensions, which seems to have diminishing returns since most artists are different.\n",
    "\n",
    "- Remove low correlation features\n",
    "\n",
    "    Features with low correlation ( |corr| < 0.1 ) are removed to reduce dimensionality and some irrelevant data, such as the number of the day a song was released."
   ]
  },
  {
   "cell_type": "code",
   "execution_count": 11,
   "metadata": {},
   "outputs": [
    {
     "data": {
      "text/html": [
       "<div>\n",
       "<style scoped>\n",
       "    .dataframe tbody tr th:only-of-type {\n",
       "        vertical-align: middle;\n",
       "    }\n",
       "\n",
       "    .dataframe tbody tr th {\n",
       "        vertical-align: top;\n",
       "    }\n",
       "\n",
       "    .dataframe thead th {\n",
       "        text-align: right;\n",
       "    }\n",
       "</style>\n",
       "<table border=\"1\" class=\"dataframe\">\n",
       "  <thead>\n",
       "    <tr style=\"text-align: right;\">\n",
       "      <th></th>\n",
       "      <th>artist_count</th>\n",
       "      <th>released_year</th>\n",
       "      <th>in_spotify_playlists</th>\n",
       "      <th>in_spotify_charts</th>\n",
       "      <th>streams</th>\n",
       "      <th>in_apple_playlists</th>\n",
       "      <th>in_apple_charts</th>\n",
       "      <th>in_deezer_playlists</th>\n",
       "      <th>in_deezer_charts</th>\n",
       "      <th>speechiness_%</th>\n",
       "    </tr>\n",
       "  </thead>\n",
       "  <tbody>\n",
       "    <tr>\n",
       "      <th>0</th>\n",
       "      <td>2</td>\n",
       "      <td>2023</td>\n",
       "      <td>553</td>\n",
       "      <td>147</td>\n",
       "      <td>141381703</td>\n",
       "      <td>43</td>\n",
       "      <td>263</td>\n",
       "      <td>45</td>\n",
       "      <td>10</td>\n",
       "      <td>4</td>\n",
       "    </tr>\n",
       "    <tr>\n",
       "      <th>1</th>\n",
       "      <td>1</td>\n",
       "      <td>2023</td>\n",
       "      <td>1474</td>\n",
       "      <td>48</td>\n",
       "      <td>133716286</td>\n",
       "      <td>48</td>\n",
       "      <td>126</td>\n",
       "      <td>58</td>\n",
       "      <td>14</td>\n",
       "      <td>4</td>\n",
       "    </tr>\n",
       "    <tr>\n",
       "      <th>2</th>\n",
       "      <td>1</td>\n",
       "      <td>2023</td>\n",
       "      <td>1397</td>\n",
       "      <td>113</td>\n",
       "      <td>140003974</td>\n",
       "      <td>94</td>\n",
       "      <td>207</td>\n",
       "      <td>91</td>\n",
       "      <td>14</td>\n",
       "      <td>6</td>\n",
       "    </tr>\n",
       "    <tr>\n",
       "      <th>3</th>\n",
       "      <td>1</td>\n",
       "      <td>2019</td>\n",
       "      <td>7858</td>\n",
       "      <td>100</td>\n",
       "      <td>800840817</td>\n",
       "      <td>116</td>\n",
       "      <td>207</td>\n",
       "      <td>125</td>\n",
       "      <td>12</td>\n",
       "      <td>15</td>\n",
       "    </tr>\n",
       "    <tr>\n",
       "      <th>4</th>\n",
       "      <td>1</td>\n",
       "      <td>2023</td>\n",
       "      <td>3133</td>\n",
       "      <td>50</td>\n",
       "      <td>303236322</td>\n",
       "      <td>84</td>\n",
       "      <td>133</td>\n",
       "      <td>87</td>\n",
       "      <td>15</td>\n",
       "      <td>6</td>\n",
       "    </tr>\n",
       "  </tbody>\n",
       "</table>\n",
       "</div>"
      ],
      "text/plain": [
       "   artist_count  released_year  in_spotify_playlists  in_spotify_charts  \\\n",
       "0             2           2023                   553                147   \n",
       "1             1           2023                  1474                 48   \n",
       "2             1           2023                  1397                113   \n",
       "3             1           2019                  7858                100   \n",
       "4             1           2023                  3133                 50   \n",
       "\n",
       "     streams  in_apple_playlists  in_apple_charts  in_deezer_playlists  \\\n",
       "0  141381703                  43              263                   45   \n",
       "1  133716286                  48              126                   58   \n",
       "2  140003974                  94              207                   91   \n",
       "3  800840817                 116              207                  125   \n",
       "4  303236322                  84              133                   87   \n",
       "\n",
       "   in_deezer_charts  speechiness_%  \n",
       "0                10              4  \n",
       "1                14              4  \n",
       "2                14              6  \n",
       "3                12             15  \n",
       "4                15              6  "
      ]
     },
     "execution_count": 11,
     "metadata": {},
     "output_type": "execute_result"
    }
   ],
   "source": [
    "# Remove low correlation features\n",
    "data = data.drop(['track_name', 'artist(s)_name', 'released_month', 'released_day',\n",
    "                 'in_shazam_charts', 'bpm', 'danceability_%', 'valence_%', 'energy_%', 'acousticness_%', \n",
    "                  'instrumentalness_%', 'liveness_%', 'A', 'A#', 'B', 'C', 'C#', 'D', 'D#', 'E',\n",
    "                  'F', 'F#', 'G', 'G#', 'Minor'], axis=1)\n",
    "data.head()"
   ]
  },
  {
   "cell_type": "markdown",
   "metadata": {},
   "source": [
    "### 2. Modeling\n",
    "\n",
    "TODO: description of reasons for modeling. "
   ]
  },
  {
   "cell_type": "markdown",
   "metadata": {},
   "source": [
    "#### Linear Regression\n",
    "We first start with a linear regression model since it is simple and computationally efficient. Linear regression acts as a baseline that can give us insights into the complexity of the dataset and guide further modeling choices."
   ]
  },
  {
   "cell_type": "code",
   "execution_count": 12,
   "metadata": {},
   "outputs": [
    {
     "name": "stdout",
     "output_type": "stream",
     "text": [
      "Simple regression on in_spotify_playlists vs streams: \n",
      "Average R2: 0.48735618013674387\n",
      "Adjusted R2: 0.4868171224923031\n",
      "\n",
      "Regression on the entire dataset: \n",
      "Average R2: 0.5864382819684011\n",
      "Adjusted R2: 0.5824912454230304\n"
     ]
    }
   ],
   "source": [
    "\n",
    "# simple modeling with streams and in_spotify\n",
    "spotify = data[\"in_spotify_playlists\"]\n",
    "streams = data[\"streams\"]\n",
    "spotify = spotify.values.reshape(-1, 1)\n",
    "streams = streams.values.reshape(-1, 1)\n",
    "reg = LinearRegression()\n",
    "\n",
    "r = cross_val_score(estimator=reg, X=spotify, y=streams, cv=5)\n",
    "print(\"Simple regression on in_spotify_playlists vs streams: \")\n",
    "print(\"Average R2: \" + str(r.mean()))\n",
    "print(\"Adjusted R2: \" + str((1 - (1 - r) * ((spotify.shape[0] - 1) / \n",
    "          (spotify.shape[0] - spotify.shape[1] - 1))).mean()))\n",
    "\n",
    "reg = LinearRegression()\n",
    "\n",
    "# streams = data[\"streams\"]\n",
    "x=data.loc[:, data.columns != 'streams']\n",
    "# x.apply(pd.to_numeric)\n",
    "\n",
    "\n",
    "r = cross_val_score(estimator=reg, X=x, y=streams, cv=5, error_score='raise')\n",
    "print(\"\\nRegression on the entire dataset: \")\n",
    "\n",
    "print(\"Average R2: \" + str(r.mean()))\n",
    "print(\"Adjusted R2: \" + str((1 - (1 - r) * ((x.shape[0] - 1) / \n",
    "          (x.shape[0] - x.shape[1] - 1))).mean()))"
   ]
  },
  {
   "cell_type": "markdown",
   "metadata": {},
   "source": [
    "#### Ensemble: Random Forest Regressor\n",
    "Since the R2 value of linear regression was pretty low (the regression line does not approximate the actual data well), we proceed to try ensembling with decision tree base classifiers. Decision trees can capture complex relationships between the features and labels, making them well-suited for our dataset where the true relationship may not be linear. When used in ensembling methods like random forests, decision trees can address the issue of high variance associated with individual trees. By aggregating predictions from multiple trees, random forests can provide more stable and generalizable results."
   ]
  },
  {
   "cell_type": "code",
   "execution_count": 13,
   "metadata": {},
   "outputs": [
    {
     "name": "stdout",
     "output_type": "stream",
     "text": [
      "R-squared Score: 0.7920032430278607\n"
     ]
    }
   ],
   "source": [
    "# Define features and labels\n",
    "features = data.loc[:, data.columns != 'streams']\n",
    "labels = data[\"streams\"]\n",
    "\n",
    "# Define emsemble regression model\n",
    "rfr = RandomForestRegressor()\n",
    "\n",
    "# Perform Grid Search\n",
    "param_grid = {\n",
    "    'n_estimators': [50,100,150]\n",
    "}\n",
    "gs = GridSearchCV(rfr, param_grid, cv=5)\n",
    "gs.fit(features, labels)\n",
    "\n",
    "# Make predictions using cross-validated model\n",
    "predictions = cross_val_predict(gs, features, labels, cv=5)\n",
    "\n",
    "# Evaluate model\n",
    "r2 = r2_score(labels, predictions)\n",
    "print(\"R-squared Score:\", r2)"
   ]
  },
  {
   "cell_type": "markdown",
   "metadata": {},
   "source": [
    "#### KNN Models\n",
    "We decided to try some KNN models since a natural conclusion would be that songs of a similar make-up would end up having similar popularity. \n",
    "To achieve results for a normal KNN model, the 'streams' class has been divided into the quartiles found when describing 'streams'."
   ]
  },
  {
   "cell_type": "code",
   "execution_count": 14,
   "metadata": {},
   "outputs": [
    {
     "name": "stdout",
     "output_type": "stream",
     "text": [
      "Cross validation score:  0.48483328740699916\n",
      "\n",
      "GRID SEARCH\n",
      "best params.  {'knc__n_neighbors': 20, 'pca__n_components': 2}\n",
      "best score.  0.5257481399834665\n"
     ]
    }
   ],
   "source": [
    "# --- KNN Model ---\n",
    "\n",
    "def quarterStreams(e):\n",
    "    if e <= 141_381_700:\n",
    "        return 150_000_000\n",
    "    elif e <= 290_228_600:\n",
    "        return 300_000_000\n",
    "    elif e <= 673_801_100:\n",
    "        return 700_000_000\n",
    "    else: \n",
    "        return 1_000_000_000\n",
    "\n",
    "\n",
    "# Separate class and features\n",
    "knn_copy = data.copy()\n",
    "\n",
    "data_features = knn_copy.drop(columns='streams')\n",
    "data_class = knn_copy.loc[:, 'streams']\n",
    "data_class = data_class.apply(quarterStreams)\n",
    "\n",
    "# Create pipeline\n",
    "stdsc = sk.preprocessing.StandardScaler()\n",
    "pca = PCA()\n",
    "knc = KNeighborsClassifier()\n",
    "pipeline = Pipeline(steps=(('stdsc', stdsc), ('pca', pca), ('knc', knc)))\n",
    "\n",
    "# Cross validation\n",
    "cvs = cross_val_score(pipeline, data_features, data_class, cv=5)\n",
    "print('Cross validation score: ', cvs.mean())\n",
    "\n",
    "# Gridsearch \n",
    "param_grid = {\n",
    "    'pca__n_components': list(range(2, 9)),\n",
    "    'knc__n_neighbors': list(range(1, 25))\n",
    "}\n",
    "gscv = GridSearchCV(pipeline, param_grid, cv=5)\n",
    "gscv_res = gscv.fit(data_features, data_class)\n",
    "print('\\nGRID SEARCH')\n",
    "print('best params. ', gscv_res.best_params_)\n",
    "print('best score. ', gscv_res.best_score_)\n",
    "\n"
   ]
  },
  {
   "cell_type": "markdown",
   "metadata": {},
   "source": [
    "**KNN Regressor**\n",
    "\n",
    "Since our model is trying to predict a continuous value, KNN Regressor is suited to handle this by taking the average streams of its surrounding neighbors and use this value as the prediction."
   ]
  },
  {
   "cell_type": "code",
   "execution_count": 15,
   "metadata": {},
   "outputs": [
    {
     "name": "stdout",
     "output_type": "stream",
     "text": [
      "Cross Validation Score Average: 60.446020801957545\n",
      "\n",
      "Best Parameter: {'knr__n_neighbors': 10}\n",
      "Grid Search: 0.6123952844082059\n"
     ]
    }
   ],
   "source": [
    "# Separate fetaures and class columns\n",
    "feats = data.drop(columns='streams')\n",
    "labels = data['streams']\n",
    "\n",
    "# Create pipeline\n",
    "scaler = sk.preprocessing.StandardScaler()\n",
    "knr = KNeighborsRegressor()\n",
    "pipeline = Pipeline(steps=(('scaler', scaler), ('knr', knr)))\n",
    "\n",
    "# Preform cross validation and get the average score\n",
    "nested_score = cross_val_score(pipeline, feats, labels, cv=5)\n",
    "print('Cross Validation Score Average:', nested_score.mean() * 100)\n",
    "\n",
    "# Preform grid search\n",
    "param_grid = {\n",
    "    'knr__n_neighbors': list(range(1, 25))\n",
    "} \n",
    "grid_search = GridSearchCV(pipeline, param_grid, cv=5)\n",
    "grid_search = grid_search.fit(feats, labels)\n",
    "print()\n",
    "print('Best Parameter:', grid_search.best_params_)\n",
    "print('Grid Search:', grid_search.best_score_)\n"
   ]
  },
  {
   "cell_type": "markdown",
   "metadata": {},
   "source": [
    "#### Support Vector Regressor\n",
    "\n",
    "Due to the data's low performance with linear regression, we decided to test out SVR. By trying out different kernel functions, we are able to transform the data to fit in a more linear feature space. This allows the model to find the best width for the tube that will enclose the data points, as well as, find the best hyperplane that most accurately defines the relationships within the data."
   ]
  },
  {
   "cell_type": "code",
   "execution_count": 21,
   "metadata": {},
   "outputs": [
    {
     "name": "stdout",
     "output_type": "stream",
     "text": [
      "R-squared: 0.6939714983699781\n"
     ]
    }
   ],
   "source": [
    "\n",
    "feats = data.drop(columns='streams')\n",
    "labels = data['streams']\n",
    "\n",
    "scaler = StandardScaler()\n",
    "svr = SVR()\n",
    "pipe = Pipeline([('scaler', scaler), ('svr', svr)])\n",
    "                \n",
    "param_grid = {\n",
    "    'svr__C': [0.1, 1, 10, 100, 1000],\n",
    "    'svr__epsilon': [0.01, 0.05, 0.1, 0.2],\n",
    "    'svr__kernel': ['linear', 'rbf', 'poly']\n",
    "}\n",
    "\n",
    "grid_search = GridSearchCV(pipe, param_grid, cv=5)\n",
    "grid_search.fit(feats, labels)\n",
    "\n",
    "svr = SVR(kernel=grid_search.best_params_.get('svr__kernel'), C=grid_search.best_params_.get('svr__C'), \n",
    "         epsilon=grid_search.best_params_.get('svr__epsilon'))\n",
    "svr.fit(feats, labels)\n",
    "\n",
    "preds = svr.predict(feats)\n",
    "\n",
    "score = svr.score(feats, labels)\n",
    "print(\"R-squared:\", score)\n"
   ]
  },
  {
   "cell_type": "markdown",
   "metadata": {},
   "source": [
    "### 3. Results\n",
    "- Describe results of final modeling"
   ]
  },
  {
   "cell_type": "markdown",
   "metadata": {},
   "source": []
  },
  {
   "cell_type": "code",
   "execution_count": null,
   "metadata": {},
   "outputs": [],
   "source": []
  }
 ],
 "metadata": {
  "kernelspec": {
   "display_name": "Python 3 (ipykernel)",
   "language": "python",
   "name": "python3"
  },
  "language_info": {
   "codemirror_mode": {
    "name": "ipython",
    "version": 3
   },
   "file_extension": ".py",
   "mimetype": "text/x-python",
   "name": "python",
   "nbconvert_exporter": "python",
   "pygments_lexer": "ipython3",
   "version": "3.11.4"
  }
 },
 "nbformat": 4,
 "nbformat_minor": 4
}
